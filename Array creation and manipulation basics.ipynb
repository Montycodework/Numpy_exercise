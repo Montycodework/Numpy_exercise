{
 "cells": [
  {
   "cell_type": "code",
   "execution_count": null,
   "id": "51f13f23",
   "metadata": {},
   "outputs": [],
   "source": [
    "# import numpy as np"
   ]
  },
  {
   "cell_type": "code",
   "execution_count": 16,
   "id": "abe220f1",
   "metadata": {},
   "outputs": [
    {
     "name": "stdout",
     "output_type": "stream",
     "text": [
      "1. Creating arrays:\n",
      "From list: [1 2 3 4 5]\n",
      "Using arange: [0 2 4 6 8]\n",
      "Using linspace: [0.   0.25 0.5  0.75 1.  ]\n"
     ]
    }
   ],
   "source": [
    "# 1. Creating arrays\n",
    "print(\"1. Creating arrays:\")\n",
    "# From a list\n",
    "a = np.array([1, 2, 3, 4, 5])\n",
    "print(\"From list:\", a)\n",
    "\n",
    "# Using numpy functions\n",
    "b = np.arange(0, 10, 2)  # Start, stop, step\n",
    "print(\"Using arange:\", b)\n",
    "\n",
    "\n",
    "# 0 se 1 ke beech 5 number chiye\n",
    "c = np.linspace(0, 1, 5)  # Start, stop, num of points\n",
    "print(\"Using linspace:\", c)"
   ]
  },
  {
   "cell_type": "code",
   "execution_count": 17,
   "id": "237affe4",
   "metadata": {},
   "outputs": [],
   "source": [
    "# Special arrays\n",
    "# d = np.zeros(3)\n",
    "# print(\"Zeros:\", d)\n",
    "\n",
    "# e = np.ones((2, 2))\n",
    "# print(\"Ones:\\n\", e)\n",
    "\n",
    "# f = np.eye(3)  # Identity matrix\n",
    "# print(\"Identity matrix:\\n\", f)"
   ]
  },
  {
   "cell_type": "code",
   "execution_count": 18,
   "id": "4cf7d027",
   "metadata": {},
   "outputs": [],
   "source": [
    "# 2. Array attributes\n",
    "# print(\"\\n2. Array attributes:\")\n",
    "# g = np.array([[1, 2, 3], [4, 5, 6]])\n",
    "# print(\"Array g:\\n\", g)\n",
    "# print(\"Shape:\", g.shape)\n",
    "# print(\"Dimensions:\", g.ndim)\n",
    "# print(\"Size:\", g.size)\n",
    "# print(\"Data type:\", g.dtype)"
   ]
  },
  {
   "cell_type": "code",
   "execution_count": 19,
   "id": "987494e1",
   "metadata": {},
   "outputs": [],
   "source": [
    "# 3. Indexing and Slicing\n",
    "# print(\"\\n3. Indexing and Slicing:\")\n",
    "# h = np.array([1, 2, 3, 4, 5, 6, 7, 8, 9, 10])\n",
    "# print(\"Array h:\", h)\n",
    "# print(\"First element:\", h[0])\n",
    "# print(\"Last element:\", h[-1])\n",
    "# print(\"Slicing (elements 2 to 5):\", h[1:5])\n",
    "# print(\"Every second element:\", h[::2])\n",
    "\n",
    "# i = np.array([[1, 2, 3], [4, 5, 6], [7, 8, 9]])\n",
    "# print(\"2D array i:\\n\", i)\n",
    "# print(\"Element at row 1, column 2:\", i[1, 2])\n",
    "# print(\"Second row:\", i[1])\n",
    "# print(\"First column:\", i[:, 0])"
   ]
  },
  {
   "cell_type": "code",
   "execution_count": 20,
   "id": "715bd95e",
   "metadata": {},
   "outputs": [],
   "source": [
    "# 4. Array Operations\n",
    "# print(\"\\n4. Array Operations:\")\n",
    "# j = np.array([1, 2, 3])\n",
    "# k = np.array([4, 5, 6])\n",
    "# print(\"j:\", j)\n",
    "# print(\"k:\", k)\n",
    "# print(\"Addition:\", j + k)\n",
    "# print(\"Multiplication:\", j * k)\n",
    "# print(\"Dot product:\", np.dot(j, k))"
   ]
  },
  {
   "cell_type": "code",
   "execution_count": 21,
   "id": "73aa23d5",
   "metadata": {},
   "outputs": [],
   "source": [
    "# 5. Array Manipulation\n",
    "# print(\"\\n5. Array Manipulation:\")\n",
    "# l = np.array([1, 2, 3, 4, 5, 6])\n",
    "# print(\"Original array l:\", l)\n",
    "# print(\"Reshaped to 2x3:\\n\", l.reshape(2, 3))\n",
    "# print(\"Transposed 2x3:\\n\", l.reshape(2, 3).T)\n",
    "\n",
    "# m = np.array([1, 2, 3])\n",
    "# n = np.array([4, 5, 6])\n",
    "# print(\"Concatenated:\", np.concatenate((m, n)))\n",
    "# print(\"Stacked vertically:\\n\", np.vstack((m, n)))\n",
    "# print(\"Stacked horizontally:\", np.hstack((m, n)))"
   ]
  }
 ],
 "metadata": {
  "kernelspec": {
   "display_name": "Python 3 (ipykernel)",
   "language": "python",
   "name": "python3"
  },
  "language_info": {
   "codemirror_mode": {
    "name": "ipython",
    "version": 3
   },
   "file_extension": ".py",
   "mimetype": "text/x-python",
   "name": "python",
   "nbconvert_exporter": "python",
   "pygments_lexer": "ipython3",
   "version": "3.11.5"
  }
 },
 "nbformat": 4,
 "nbformat_minor": 5
}
