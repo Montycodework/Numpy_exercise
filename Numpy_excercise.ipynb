{
 "cells": [
  {
   "cell_type": "code",
   "execution_count": 2,
   "id": "fff5be05",
   "metadata": {},
   "outputs": [],
   "source": [
    "w1,w2,w3 = 0.3,0.2,0.5"
   ]
  },
  {
   "cell_type": "raw",
   "id": "78e1502b",
   "metadata": {},
   "source": [
    "Region\tTemp (F)\tRainfall (mm)\tHumidity (%)\n",
    "Kanto\t73\t        67\t            43\n",
    "Johto\t91\t        88\t            64\n",
    "Hoenn\t87\t        134\t            58\n",
    "Sinnoh\t102\t        43\t            37\n",
    "Unova\t69\t        96\t            70 \n"
   ]
  },
  {
   "cell_type": "code",
   "execution_count": 3,
   "id": "98a588f4",
   "metadata": {},
   "outputs": [],
   "source": [
    "kanto = [73, 67, 43]\n",
    "johto = [91, 88, 64]\n",
    "hoenn = [87, 134, 58]\n",
    "sinnoh = [102, 43, 37]\n",
    "unova = [69, 96, 70]"
   ]
  },
  {
   "cell_type": "code",
   "execution_count": 4,
   "id": "37c4d88e",
   "metadata": {},
   "outputs": [],
   "source": [
    "weight = [w1,w2,w3]"
   ]
  },
  {
   "cell_type": "code",
   "execution_count": 5,
   "id": "e270d27f",
   "metadata": {},
   "outputs": [],
   "source": [
    "def crop_yield(region, weight):\n",
    "    result = 0\n",
    "    for r,w in zip(region, weight):\n",
    "        result += r * w\n",
    "    return result"
   ]
  },
  {
   "cell_type": "code",
   "execution_count": 6,
   "id": "a853de2e",
   "metadata": {},
   "outputs": [
    {
     "data": {
      "text/plain": [
       "56.8"
      ]
     },
     "execution_count": 6,
     "metadata": {},
     "output_type": "execute_result"
    }
   ],
   "source": [
    "data = crop_yield(kanto,weight)\n",
    "data"
   ]
  },
  {
   "cell_type": "markdown",
   "id": "dd5bd510",
   "metadata": {},
   "source": [
    "# NUMPY LIB"
   ]
  },
  {
   "cell_type": "code",
   "execution_count": 7,
   "id": "7bdb35bd",
   "metadata": {},
   "outputs": [],
   "source": [
    "import numpy as np"
   ]
  },
  {
   "cell_type": "code",
   "execution_count": 8,
   "id": "b9e21e5e",
   "metadata": {},
   "outputs": [],
   "source": [
    "# There are a couple of benifits of using Numpy arrays instead of python nlists for operating on numerical data:\n",
    "# Ease of use: You can write small, concise and intutive mathematical expressions like (kanto * weight) .sum() rather than using loops\n",
    "# & custom functions like crop_yield\n",
    "\n",
    "# Performance:Numpy operations and functions are implemented internally in C++, which makes them much faster than using\n",
    "# python statements & loops which are interpreted at runtime."
   ]
  },
  {
   "cell_type": "code",
   "execution_count": 9,
   "id": "7bf67895",
   "metadata": {},
   "outputs": [],
   "source": [
    "kanto = np.array([73, 67, 43])"
   ]
  },
  {
   "cell_type": "code",
   "execution_count": 10,
   "id": "421e68a1",
   "metadata": {},
   "outputs": [
    {
     "data": {
      "text/plain": [
       "56.8"
      ]
     },
     "execution_count": 10,
     "metadata": {},
     "output_type": "execute_result"
    }
   ],
   "source": [
    "np.dot(kanto,weight)"
   ]
  },
  {
   "cell_type": "code",
   "execution_count": 11,
   "id": "5a4c4ced",
   "metadata": {},
   "outputs": [],
   "source": [
    "# Some other ways as well"
   ]
  },
  {
   "cell_type": "code",
   "execution_count": 12,
   "id": "32069d75",
   "metadata": {},
   "outputs": [
    {
     "data": {
      "text/plain": [
       "56.8"
      ]
     },
     "execution_count": 12,
     "metadata": {},
     "output_type": "execute_result"
    }
   ],
   "source": [
    "(kanto*weight).sum()"
   ]
  },
  {
   "cell_type": "code",
   "execution_count": 13,
   "id": "cbb2111e",
   "metadata": {},
   "outputs": [],
   "source": [
    "# Python list\n",
    "arr1 = list(range(1000000))\n",
    "arr2 = list(range(1000000, 2000000))\n",
    "\n",
    "# Numpy arrays\n",
    "arr1_np = np.array(arr1,dtype=np.int64)\n",
    "arr2_np = np.array(arr2,dtype=np.int64)"
   ]
  },
  {
   "cell_type": "code",
   "execution_count": 14,
   "id": "ec89347a",
   "metadata": {},
   "outputs": [
    {
     "name": "stdout",
     "output_type": "stream",
     "text": [
      "CPU times: total: 156 ms\n",
      "Wall time: 180 ms\n"
     ]
    },
    {
     "data": {
      "text/plain": [
       "833332333333500000"
      ]
     },
     "execution_count": 14,
     "metadata": {},
     "output_type": "execute_result"
    }
   ],
   "source": [
    "%%time \n",
    "result = 0\n",
    "for x1,x2 in zip(arr1, arr2):\n",
    "    result += x1 * x2\n",
    "result"
   ]
  },
  {
   "cell_type": "code",
   "execution_count": 15,
   "id": "764289c7",
   "metadata": {},
   "outputs": [
    {
     "name": "stdout",
     "output_type": "stream",
     "text": [
      "CPU times: total: 0 ns\n",
      "Wall time: 2.65 ms\n"
     ]
    },
    {
     "data": {
      "text/plain": [
       "833332333333500000"
      ]
     },
     "execution_count": 15,
     "metadata": {},
     "output_type": "execute_result"
    }
   ],
   "source": [
    "%%time\n",
    "np.dot(arr1_np, arr2_np)"
   ]
  },
  {
   "cell_type": "code",
   "execution_count": 16,
   "id": "0b388143",
   "metadata": {},
   "outputs": [],
   "source": [
    "climate_data = np.array([[73, 67, 43],\n",
    "                        [91, 88, 64],\n",
    "                        [87, 134, 58],\n",
    "                        [102, 43, 37],\n",
    "                        [69, 96, 70]])"
   ]
  },
  {
   "cell_type": "code",
   "execution_count": 17,
   "id": "42d6c3d7",
   "metadata": {},
   "outputs": [
    {
     "data": {
      "text/plain": [
       "array([[ 73,  67,  43],\n",
       "       [ 91,  88,  64],\n",
       "       [ 87, 134,  58],\n",
       "       [102,  43,  37],\n",
       "       [ 69,  96,  70]])"
      ]
     },
     "execution_count": 17,
     "metadata": {},
     "output_type": "execute_result"
    }
   ],
   "source": [
    "climate_data"
   ]
  },
  {
   "cell_type": "code",
   "execution_count": 18,
   "id": "fb06c4eb",
   "metadata": {},
   "outputs": [],
   "source": [
    "weights = np.array([0.3,0.2,0.5])"
   ]
  },
  {
   "cell_type": "code",
   "execution_count": 19,
   "id": "36daf517",
   "metadata": {},
   "outputs": [
    {
     "data": {
      "text/plain": [
       "array([56.8, 76.9, 81.9, 57.7, 74.9])"
      ]
     },
     "execution_count": 19,
     "metadata": {},
     "output_type": "execute_result"
    }
   ],
   "source": [
    "np.matmul(climate_data, weights) # matmul stands for matrix multiplication"
   ]
  },
  {
   "cell_type": "code",
   "execution_count": 20,
   "id": "ab20528b",
   "metadata": {},
   "outputs": [
    {
     "data": {
      "text/plain": [
       "array([56.8, 76.9, 81.9, 57.7, 74.9])"
      ]
     },
     "execution_count": 20,
     "metadata": {},
     "output_type": "execute_result"
    }
   ],
   "source": [
    "climate_data @ weights # @ character represents the matrix multiplication"
   ]
  },
  {
   "cell_type": "markdown",
   "id": "663894a3",
   "metadata": {},
   "source": [
    "# New_Excercise"
   ]
  },
  {
   "cell_type": "code",
   "execution_count": 21,
   "id": "8abf1cb4",
   "metadata": {},
   "outputs": [],
   "source": [
    "import pandas as pd\n",
    "\n",
    "climate_data = pd.read_csv(\"C:/Users/Monty/Desktop/Numpy/climate_data.txt\", sep=\",\")\n",
    "climate_data = np.genfromtxt('climate_data.txt',delimiter=',',skip_header=1)"
   ]
  },
  {
   "cell_type": "code",
   "execution_count": 22,
   "id": "0f8f307a",
   "metadata": {},
   "outputs": [
    {
     "data": {
      "text/plain": [
       "array([[ 26.24, 112.09,  78.4 ],\n",
       "       [ 43.52,  99.87,  34.76],\n",
       "       [ 36.96,  52.85,  47.73],\n",
       "       ...,\n",
       "       [ 43.4 ,  91.11,  21.56],\n",
       "       [ 26.92, 133.  ,  52.08],\n",
       "       [ 21.51,  51.68,  40.59]])"
      ]
     },
     "execution_count": 22,
     "metadata": {},
     "output_type": "execute_result"
    }
   ],
   "source": [
    "climate_data"
   ]
  },
  {
   "cell_type": "code",
   "execution_count": 23,
   "id": "3b56d133",
   "metadata": {},
   "outputs": [
    {
     "data": {
      "text/plain": [
       "(10000, 3)"
      ]
     },
     "execution_count": 23,
     "metadata": {},
     "output_type": "execute_result"
    }
   ],
   "source": [
    "climate_data.shape"
   ]
  },
  {
   "cell_type": "code",
   "execution_count": 24,
   "id": "8835b1ae",
   "metadata": {},
   "outputs": [],
   "source": [
    "weights = np.array([0.3,0.2,0.5])"
   ]
  },
  {
   "cell_type": "code",
   "execution_count": 25,
   "id": "3f9b7eae",
   "metadata": {},
   "outputs": [],
   "source": [
    "yields = climate_data @ weights"
   ]
  },
  {
   "cell_type": "code",
   "execution_count": 26,
   "id": "b1fad58a",
   "metadata": {},
   "outputs": [
    {
     "data": {
      "text/plain": [
       "array([69.49 , 50.41 , 45.523, ..., 42.022, 60.716, 37.084])"
      ]
     },
     "execution_count": 26,
     "metadata": {},
     "output_type": "execute_result"
    }
   ],
   "source": [
    "yields"
   ]
  },
  {
   "cell_type": "markdown",
   "id": "1cd54f05",
   "metadata": {},
   "source": [
    "We can now add thew yields back to climate_data as fourth column using the np.concatenate function"
   ]
  },
  {
   "cell_type": "code",
   "execution_count": 27,
   "id": "e7648fe5",
   "metadata": {},
   "outputs": [],
   "source": [
    "climate_results = np.concatenate((climate_data,yields.reshape(10000, 1)),axis=1)"
   ]
  },
  {
   "cell_type": "code",
   "execution_count": 28,
   "id": "60c3bd68",
   "metadata": {},
   "outputs": [
    {
     "data": {
      "text/plain": [
       "array([[ 26.24 , 112.09 ,  78.4  ,  69.49 ],\n",
       "       [ 43.52 ,  99.87 ,  34.76 ,  50.41 ],\n",
       "       [ 36.96 ,  52.85 ,  47.73 ,  45.523],\n",
       "       ...,\n",
       "       [ 43.4  ,  91.11 ,  21.56 ,  42.022],\n",
       "       [ 26.92 , 133.   ,  52.08 ,  60.716],\n",
       "       [ 21.51 ,  51.68 ,  40.59 ,  37.084]])"
      ]
     },
     "execution_count": 28,
     "metadata": {},
     "output_type": "execute_result"
    }
   ],
   "source": [
    "climate_results"
   ]
  },
  {
   "cell_type": "markdown",
   "id": "ca16fb8a",
   "metadata": {},
   "source": [
    "# Here we are saving the new data as a txt file using np.savetxt command"
   ]
  },
  {
   "cell_type": "code",
   "execution_count": 29,
   "id": "c83e2333",
   "metadata": {},
   "outputs": [],
   "source": [
    "np.savetxt('climate_results.txt',climate_results, fmt='%.2f',header='temperature,rainfall,humidity,yield_apples',\n",
    "          comments='')"
   ]
  },
  {
   "cell_type": "raw",
   "id": "0a37d2fe",
   "metadata": {},
   "source": [
    "Math - np.sum, np.exp, np.round, airthematic operators\n",
    "Array manipulation - np.reshape, np.stack, np.concatenate, np.split\n",
    "Linear alegebra - np.matmul, np.dot, np.transpose, np.eigvals\n",
    "Statistics - np.mean, np.median, np.std, np.max"
   ]
  },
  {
   "cell_type": "code",
   "execution_count": 30,
   "id": "5da10e6b",
   "metadata": {},
   "outputs": [
    {
     "data": {
      "text/plain": [
       "array([[ 26.24 , 112.09 ,  78.4  ,  69.49 ],\n",
       "       [ 43.52 ,  99.87 ,  34.76 ,  50.41 ],\n",
       "       [ 36.96 ,  52.85 ,  47.73 ,  45.523],\n",
       "       ...,\n",
       "       [ 43.4  ,  91.11 ,  21.56 ,  42.022],\n",
       "       [ 26.92 , 133.   ,  52.08 ,  60.716],\n",
       "       [ 21.51 ,  51.68 ,  40.59 ,  37.084]])"
      ]
     },
     "execution_count": 30,
     "metadata": {},
     "output_type": "execute_result"
    }
   ],
   "source": [
    "climate_results"
   ]
  },
  {
   "cell_type": "code",
   "execution_count": 31,
   "id": "6756b02f",
   "metadata": {},
   "outputs": [
    {
     "data": {
      "text/plain": [
       "array([112.09,  78.4 ])"
      ]
     },
     "execution_count": 31,
     "metadata": {},
     "output_type": "execute_result"
    }
   ],
   "source": [
    "climate_results[0,1:3]"
   ]
  },
  {
   "cell_type": "code",
   "execution_count": 32,
   "id": "a21327ab",
   "metadata": {},
   "outputs": [
    {
     "data": {
      "text/plain": [
       "array([[51.68 , 40.59 , 37.084]])"
      ]
     },
     "execution_count": 32,
     "metadata": {},
     "output_type": "execute_result"
    }
   ],
   "source": [
    "climate_results[9999:, 1:]"
   ]
  },
  {
   "cell_type": "code",
   "execution_count": 33,
   "id": "1fb34ac2",
   "metadata": {},
   "outputs": [
    {
     "data": {
      "text/plain": [
       "array([78.4 , 34.76, 47.73, ..., 21.56, 52.08, 40.59])"
      ]
     },
     "execution_count": 33,
     "metadata": {},
     "output_type": "execute_result"
    }
   ],
   "source": [
    "climate_results[:, 2]"
   ]
  },
  {
   "cell_type": "code",
   "execution_count": 34,
   "id": "0c267c33",
   "metadata": {},
   "outputs": [
    {
     "data": {
      "text/plain": [
       "array([[36.96, 47.73],\n",
       "       [19.68, 58.57],\n",
       "       [16.74, 96.9 ],\n",
       "       ...,\n",
       "       [18.74, 41.55],\n",
       "       [41.93, 79.83],\n",
       "       [26.92, 52.08]])"
      ]
     },
     "execution_count": 34,
     "metadata": {},
     "output_type": "execute_result"
    }
   ],
   "source": [
    "climate_results[2::2, ::2]"
   ]
  },
  {
   "cell_type": "code",
   "execution_count": 35,
   "id": "d617c762",
   "metadata": {},
   "outputs": [
    {
     "data": {
      "text/plain": [
       "array([[ 26.24 , 112.09 ,  78.4  ,  69.49 ],\n",
       "       [ 43.52 ,  99.87 ,  34.76 ,  50.41 ],\n",
       "       [ 36.96 ,  52.85 ,  47.73 ,  45.523],\n",
       "       ...,\n",
       "       [ 43.4  ,  91.11 ,  21.56 ,  42.022],\n",
       "       [ 26.92 , 133.   ,  52.08 ,  60.716],\n",
       "       [ 21.51 ,  51.68 ,  40.59 ,  37.084]])"
      ]
     },
     "execution_count": 35,
     "metadata": {},
     "output_type": "execute_result"
    }
   ],
   "source": [
    "climate_results"
   ]
  },
  {
   "cell_type": "code",
   "execution_count": 36,
   "id": "8c23c6b0",
   "metadata": {},
   "outputs": [],
   "source": [
    "def parse_header(first_line):\n",
    "    return first_line.strip().split(',')"
   ]
  },
  {
   "cell_type": "code",
   "execution_count": 39,
   "id": "35e3426d",
   "metadata": {},
   "outputs": [],
   "source": [
    "def parse_values(data_line):\n",
    "    values = []\n",
    "    for item in data_line.strip().split(','):\n",
    "        if item == '':\n",
    "            values.append(0.0)\n",
    "        else:\n",
    "            values.append(float(item))\n",
    "    return values"
   ]
  },
  {
   "cell_type": "code",
   "execution_count": 41,
   "id": "5f7266ec",
   "metadata": {},
   "outputs": [],
   "source": [
    "def create_dict(header, values):\n",
    "    result = {header:value for header, value in zip(headers, values)}\n",
    "    return result"
   ]
  },
  {
   "cell_type": "code",
   "execution_count": 42,
   "id": "9996658a",
   "metadata": {},
   "outputs": [],
   "source": [
    "def read_csv(file_path):\n",
    "    result = []\n",
    "    with open(file_path) as data:\n",
    "        lines = data.readlines()\n",
    "        headers = parse_header(line[0])\n",
    "        for data_line in lines[1:]:\n",
    "            values = parse_values(data_line)\n",
    "            item_dict = create_dict(headers, values)\n",
    "            result.append(item_dict)\n",
    "    return result"
   ]
  }
 ],
 "metadata": {
  "kernelspec": {
   "display_name": "Python 3 (ipykernel)",
   "language": "python",
   "name": "python3"
  },
  "language_info": {
   "codemirror_mode": {
    "name": "ipython",
    "version": 3
   },
   "file_extension": ".py",
   "mimetype": "text/x-python",
   "name": "python",
   "nbconvert_exporter": "python",
   "pygments_lexer": "ipython3",
   "version": "3.11.5"
  }
 },
 "nbformat": 4,
 "nbformat_minor": 5
}
